{
 "cells": [
  {
   "cell_type": "markdown",
   "metadata": {},
   "source": [
    "## CCTech June 2020 Software Developer Hiring Challenge\n",
    "\n",
    "<p>This page contains challenges for CCTech's fresher hiring activity for June 2020.</p>\n",
    "<p>Job Description\n",
    "    <ul>\n",
    "        <li>0-1 year(s) of experience</li>\n",
    "        <li>Proefficient in atleast one language out of C++, C#, JavaScript, Python, Java</li>\n",
    "        <li>Full stack developers are preferred</li>\n",
    "        <li>BE / B.Tech (CSE or related discipline)</li>\n",
    "    </ul>\n",
    "</p>\n",
    "<p>Students are requested to follow these guidelines:\n",
    "    <ul>\n",
    "        <li>You are expected to write the following programs in your preferred language</li>\n",
    "        <li>Upload your work to your github account and email the link to hr@cctech.co.in</li>\n",
    "    </ul>\n",
    "</p>"
   ]
  },
  {
   "cell_type": "markdown",
   "metadata": {},
   "source": [
    "***\n",
    "***\n",
    "***"
   ]
  },
  {
   "cell_type": "markdown",
   "metadata": {},
   "source": [
    "## Question 1 : Check if the given point lies inside or outside a polygon ?\n",
    "***\n",
    "**Description**  : Given a polygon and a point **'p'**, find if **'p'** lies inside the polygon or not. The points lying on the border are considered inside. \n",
    "\n",
    "<table>\n",
    "    <tr>\n",
    "        <td><img src=\"images/polygon1.JPG\" style=\"height:350px;\"></td>\n",
    "        <td><img src=\"images/polygon2.PNG\" style=\"height:350px;\"></td>\n",
    "    </tr>\n",
    "</table>\n",
    "\n",
    "#### Write a function that takes two arguments as a input and return **_True_** if **'p'** lies inside the polygon else **_False_**. <br> Do not use any built-in or library functions. This question is to test you ability to create the required algorithm. <br> \n",
    "\n",
    "**Input 1** : array consisting the coordinates of polygon in 2-D <br>\n",
    "**Input 2** : coordinated of points in 2-D <br>\n",
    "**Output** : **_True_** if point 'p' lies inside the polygon else **_False_** <br>\n",
    "\n",
    "**Example :** \n",
    "\n",
    "- **Case 1 :**\n",
    "    - Input -\n",
    "        - $ Polygon$ : $ [[1,0], [8,3], [8,8], [1,5]]  $\n",
    "        - $ P $:  $ [3,5] $ \n",
    "        - Output : **True** <br> <br>\n",
    "        \n",
    "\n",
    "- **Case 2 :**\n",
    "    - input\n",
    "        - $ Polygon $ : $ [[-3,2], [-2,-0.8], [0,1.2], [2.2,0], [2,4.5]]$\n",
    "        - $ P $ : $[0,0]$\n",
    "        - Output : **False**"
   ]
  },
  {
   "cell_type": "markdown",
   "metadata": {},
   "source": [
    "***\n",
    "***\n",
    "***"
   ]
  },
  {
   "cell_type": "markdown",
   "metadata": {},
   "source": [
    "## Question 2 : Calculate the surface of the building exposed to sunlight ?\n",
    "***\n",
    "\n",
    "**Description**  : Given a coordinates of buildings and source point **_'p'_** of sunlight. Calculate the length of building exposed to sunlight having the source at point **_p_**.\n",
    "\n",
    "<img src=\"images/building3.PNG\" style=\"width:600px;height:400px;\">\n",
    "<br>\n",
    "\n",
    "#### Write a function that takes two arguments as a input and return **length** of the building exposed to sunlight <br>\n",
    "\n",
    "**Input 1** : $(n*4*2)$ array consisting the coordinates of n buildings in 2-D, where n is number of buildings <br>\n",
    "**Input 2** : coordinated of source of light in 2-D <br>\n",
    "**Output** : (float) Length of surface exposed to sunlight\n",
    "\n",
    "**Example :** \n",
    "\n",
    "- Case 1\n",
    "    - Input -\n",
    "        - $ Buildings Coordinates$ : $ [[[4,0],[4,-5],[7,-5],[7,0]]]  $\n",
    "        - $ S $:  $ [1,1] $ \n",
    "        - Output : **8.0** <br> <br>\n",
    "        \n",
    "\n",
    "- Case 1\n",
    "    - input\n",
    "        - $ Buildings Coordinates$ : $ [[[4,0],[4,-5],[7,-5],[7,0]], [[0.4,-2],[0.4,-5],[2.5,-5],[2.5,-2]]]  $\n",
    "        - $ S $:  $ [-3.5,1] $ \n",
    "        - Output : **to be calculated** <br> <br>"
   ]
  }
 ],
 "metadata": {
  "kernelspec": {
   "display_name": "Python 3.8.3 64-bit",
   "language": "python",
   "name": "python38364bit6680399d514d4305bc201ca3d04cc063"
  },
  "language_info": {
   "codemirror_mode": {
    "name": "ipython",
    "version": 3
   },
   "file_extension": ".py",
   "mimetype": "text/x-python",
   "name": "python",
   "nbconvert_exporter": "python",
   "pygments_lexer": "ipython3",
   "version": "3.8.3"
  }
 },
 "nbformat": 4,
 "nbformat_minor": 2
}