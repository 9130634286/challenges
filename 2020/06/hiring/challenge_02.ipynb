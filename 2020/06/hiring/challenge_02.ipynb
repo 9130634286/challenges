{
 "cells": [
  {
   "cell_type": "markdown",
   "metadata": {},
   "source": [
    "## CCTech June 2020 Full-Stack Hiring Challenge\n",
    "\n",
    "<p>This page contains challenges for CCTech's hiring activity for June 2020.</p>\n",
    "<p>Job Description\n",
    "    <ul>\n",
    "        <li>0-1 year(s) of experience</li>\n",
    "        <li>Proefficient in full-stack development</li>\n",
    "        <li>BE / B.Tech (CSE or related discipline)</li>\n",
    "    </ul>\n",
    "</p>\n",
    "<p>Students are requested to follow these guidelines:\n",
    "    <ul>\n",
    "        <li>You are expected to write the following program in your preferred language/framework</li>\n",
    "        <li>Upload your work to your github account and email the link to hr@cctech.co.in</li>\n",
    "    </ul>\n",
    "</p>"
   ]
  },
  {
   "cell_type": "markdown",
   "metadata": {},
   "source": [
    "***\n",
    "***\n",
    "***"
   ]
  },
  {
   "cell_type": "markdown",
   "metadata": {},
   "source": [
    "## Create a full-stack online photo sharing application named \"YouFrame\"\n",
    "\n",
    "Similar to YouTube, which is for videos, YouFrame is for photos.<br>\n",
    "The application should have the following functionalities:\n",
    "<ol>\n",
    "    <li>The homepage of the website loads a dashboard of all the uploaded photos</li>\n",
    "    <li>The dashboard contains 3 tiles in a row</li>\n",
    "    <li>At the topbar, provide a button to select a photo from your PC and upload it</li>\n",
    "    <li>On successful upload, this new photo appears at the 1st tile, shifting all other photos by 1 position</li>\n",
    "</ol>"
   ]
  }
 ],
 "metadata": {
  "kernelspec": {
   "display_name": "Python 3.8.3 64-bit",
   "language": "python",
   "name": "python38364bit6680399d514d4305bc201ca3d04cc063"
  },
  "language_info": {
   "codemirror_mode": {
    "name": "ipython",
    "version": 3
   },
   "file_extension": ".py",
   "mimetype": "text/x-python",
   "name": "python",
   "nbconvert_exporter": "python",
   "pygments_lexer": "ipython3",
   "version": "3.8.3"
  }
 },
 "nbformat": 4,
 "nbformat_minor": 2
}